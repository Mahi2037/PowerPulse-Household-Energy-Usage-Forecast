{
 "cells": [
  {
   "cell_type": "code",
   "execution_count": 1,
   "id": "b88e714d",
   "metadata": {},
   "outputs": [],
   "source": [
    "import pandas as pd\n",
    "import numpy as np\n",
    "import matplotlib.pyplot as plt\n",
    "import seaborn as sns\n",
    "from sklearn.model_selection import train_test_split\n",
    "from sklearn.preprocessing import StandardScaler\n",
    "from sklearn.metrics import mean_squared_error, mean_absolute_error, r2_score\n",
    "from sklearn.linear_model import LinearRegression\n",
    "from sklearn.ensemble import RandomForestRegressor, GradientBoostingRegressor\n",
    "from sklearn.neural_network import MLPRegressor\n"
   ]
  },
  {
   "cell_type": "code",
   "execution_count": 2,
   "id": "a5b2310f",
   "metadata": {},
   "outputs": [],
   "source": [
    "# Replace with your actual dataset path\n",
    "df = pd.read_csv(r'L:\\Guvi\\Power\\household_power_consumption.txt', sep=';', na_values='?', low_memory=False)\n",
    "\n",
    "# Combine Date and Time\n",
    "df['Datetime'] = pd.to_datetime(df['Date'] + ' ' + df['Time'], format='%d/%m/%Y %H:%M:%S')\n",
    "df = df.drop(columns=['Date', 'Time'])\n"
   ]
  },
  {
   "cell_type": "markdown",
   "id": "2cf78235",
   "metadata": {},
   "source": [
    "Data Preprocessing"
   ]
  },
  {
   "cell_type": "code",
   "execution_count": 3,
   "id": "5c8a2b97",
   "metadata": {},
   "outputs": [
    {
     "name": "stderr",
     "output_type": "stream",
     "text": [
      "C:\\Users\\CARE\\AppData\\Local\\Temp\\ipykernel_3244\\1613351110.py:11: FutureWarning: 'H' is deprecated and will be removed in a future version, please use 'h' instead.\n",
      "  df_hourly = df.resample('H').mean()\n",
      "C:\\Users\\CARE\\AppData\\Local\\Temp\\ipykernel_3244\\1613351110.py:14: FutureWarning: DataFrame.fillna with 'method' is deprecated and will raise in a future version. Use obj.ffill() or obj.bfill() instead.\n",
      "  df_hourly.fillna(method='ffill', inplace=True)\n"
     ]
    }
   ],
   "source": [
    "# Remove missing values\n",
    "df.dropna(inplace=True)\n",
    "\n",
    "# Set datetime as index\n",
    "df.set_index('Datetime', inplace=True)\n",
    "\n",
    "# Convert columns to numeric\n",
    "df = df.apply(pd.to_numeric)\n",
    "\n",
    "# Resample to hourly data (optional for smoothing)\n",
    "df_hourly = df.resample('H').mean()\n",
    "\n",
    "# Fill NA after resampling\n",
    "df_hourly.fillna(method='ffill', inplace=True)\n"
   ]
  },
  {
   "cell_type": "markdown",
   "id": "68ec9f19",
   "metadata": {},
   "source": [
    "Feature Engineering"
   ]
  },
  {
   "cell_type": "code",
   "execution_count": 4,
   "id": "48d23cde",
   "metadata": {},
   "outputs": [],
   "source": [
    "# Add time-based features\n",
    "df_hourly['hour'] = df_hourly.index.hour\n",
    "df_hourly['day'] = df_hourly.index.day\n",
    "df_hourly['month'] = df_hourly.index.month\n",
    "df_hourly['weekday'] = df_hourly.index.weekday\n",
    "\n",
    "# Define features and target\n",
    "features = df_hourly.drop('Global_active_power', axis=1)\n",
    "target = df_hourly['Global_active_power']\n"
   ]
  },
  {
   "cell_type": "markdown",
   "id": "a9226c4d",
   "metadata": {},
   "source": [
    "Train test split and scaling"
   ]
  },
  {
   "cell_type": "code",
   "execution_count": 5,
   "id": "c5b11f73",
   "metadata": {},
   "outputs": [],
   "source": [
    "X_train, X_test, y_train, y_test = train_test_split(features, target, test_size=0.2, random_state=42)\n",
    "\n",
    "scaler = StandardScaler()\n",
    "X_train_scaled = scaler.fit_transform(X_train)\n",
    "X_test_scaled = scaler.transform(X_test)\n"
   ]
  },
  {
   "cell_type": "markdown",
   "id": "323f8329",
   "metadata": {},
   "source": [
    "Model Training"
   ]
  },
  {
   "cell_type": "code",
   "execution_count": 7,
   "id": "6c6d9993",
   "metadata": {},
   "outputs": [
    {
     "name": "stdout",
     "output_type": "stream",
     "text": [
      "Training models...\n",
      "Linear Regression -> RMSE: 0.0206, MAE: 0.0143, R2: 0.9995\n",
      "Random Forest -> RMSE: 0.0184, MAE: 0.0113, R2: 0.9996\n",
      "Gradient Boosting -> RMSE: 0.0196, MAE: 0.0132, R2: 0.9995\n",
      "Neural Network -> RMSE: 0.0271, MAE: 0.0197, R2: 0.9991\n"
     ]
    }
   ],
   "source": [
    "from sklearn.metrics import mean_squared_error, mean_absolute_error, r2_score\n",
    "from math import sqrt\n",
    "\n",
    "models = {\n",
    "    \"Linear Regression\": LinearRegression(),\n",
    "    \"Random Forest\": RandomForestRegressor(random_state=42),\n",
    "    \"Gradient Boosting\": GradientBoostingRegressor(random_state=42),\n",
    "    \"Neural Network\": MLPRegressor(random_state=42, max_iter=500)\n",
    "}\n",
    "\n",
    "results = {}\n",
    "\n",
    "print(\"Training models...\")\n",
    "for name, model in models.items():\n",
    "    model.fit(X_train_scaled, y_train)\n",
    "    predictions = model.predict(X_test_scaled)\n",
    "\n",
    "    # Compute RMSE manually using sqrt of MSE\n",
    "    mse = mean_squared_error(y_test, predictions)\n",
    "    rmse = sqrt(mse)\n",
    "\n",
    "    mae = mean_absolute_error(y_test, predictions)\n",
    "    r2 = r2_score(y_test, predictions)\n",
    "\n",
    "    results[name] = {\"RMSE\": rmse, \"MAE\": mae, \"R2\": r2}\n",
    "    print(f\"{name} -> RMSE: {rmse:.4f}, MAE: {mae:.4f}, R2: {r2:.4f}\")\n"
   ]
  },
  {
   "cell_type": "markdown",
   "id": "b9302e3e",
   "metadata": {},
   "source": []
  },
  {
   "cell_type": "code",
   "execution_count": 8,
   "id": "9444aac1",
   "metadata": {},
   "outputs": [
    {
     "name": "stdout",
     "output_type": "stream",
     "text": [
      "\n",
      "Best model: Random Forest\n"
     ]
    }
   ],
   "source": [
    "best_model_name = min(results, key=lambda x: results[x]['RMSE'])\n",
    "best_model = models[best_model_name]\n",
    "\n",
    "print(f\"\\nBest model: {best_model_name}\")\n"
   ]
  },
  {
   "cell_type": "markdown",
   "id": "fc8821be",
   "metadata": {},
   "source": [
    "Plot"
   ]
  },
  {
   "cell_type": "code",
   "execution_count": 9,
   "id": "e4c0e55e",
   "metadata": {},
   "outputs": [],
   "source": [
    "y_pred = best_model.predict(X_test_scaled)\n",
    "\n",
    "plt.figure(figsize=(14, 5))\n",
    "plt.plot(y_test.values[:200], label='Actual')\n",
    "plt.plot(y_pred[:200], label='Predicted')\n",
    "plt.title(f'{best_model_name} Predictions vs Actual')\n",
    "plt.xlabel('Time Index')\n",
    "plt.ylabel('Global Active Power (kilowatts)')\n",
    "plt.legend()\n",
    "plt.tight_layout()\n",
    "plt.savefig('prediction_vs_actual.png')\n",
    "plt.close()\n"
   ]
  },
  {
   "cell_type": "code",
   "execution_count": 10,
   "id": "04f22d54",
   "metadata": {},
   "outputs": [],
   "source": [
    "if best_model_name in [\"Random Forest\", \"Gradient Boosting\"]:\n",
    "    importances = best_model.feature_importances_\n",
    "    feature_names = features.columns\n",
    "\n",
    "    plt.figure(figsize=(10, 6))\n",
    "    sns.barplot(x=importances, y=feature_names)\n",
    "    plt.title(\"Feature Importance\")\n",
    "    plt.tight_layout()\n",
    "    plt.savefig('feature_importance.png')\n",
    "    plt.close()\n"
   ]
  },
  {
   "cell_type": "code",
   "execution_count": 11,
   "id": "2e2ed076",
   "metadata": {},
   "outputs": [
    {
     "name": "stdout",
     "output_type": "stream",
     "text": [
      "\n",
      "Done! Plots saved as PNG files.\n"
     ]
    }
   ],
   "source": [
    "print(\"\\nDone! Plots saved as PNG files.\")\n"
   ]
  },
  {
   "cell_type": "markdown",
   "id": "5364c034",
   "metadata": {},
   "source": []
  }
 ],
 "metadata": {
  "kernelspec": {
   "display_name": "Python 3",
   "language": "python",
   "name": "python3"
  },
  "language_info": {
   "codemirror_mode": {
    "name": "ipython",
    "version": 3
   },
   "file_extension": ".py",
   "mimetype": "text/x-python",
   "name": "python",
   "nbconvert_exporter": "python",
   "pygments_lexer": "ipython3",
   "version": "3.12.8"
  }
 },
 "nbformat": 4,
 "nbformat_minor": 5
}
